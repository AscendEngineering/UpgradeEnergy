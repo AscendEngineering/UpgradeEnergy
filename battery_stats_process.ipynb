{
 "cells": [
  {
   "cell_type": "markdown",
   "id": "ce26d106-5903-4f74-8670-0488e315ac52",
   "metadata": {},
   "source": [
    "# **Battery Stats CSV Plot Utility** "
   ]
  },
  {
   "cell_type": "code",
   "execution_count": null,
   "id": "7224c97d-7eaf-43f3-82f2-791292fabd79",
   "metadata": {},
   "outputs": [],
   "source": [
    "import pandas as pd\n",
    "import os\n",
    "from tkinter import filedialog"
   ]
  },
  {
   "cell_type": "markdown",
   "id": "572b43e3-c290-428a-8b1c-64a44c72e413",
   "metadata": {},
   "source": [
    "## Select the CSV results from the UpgradeEnergy script"
   ]
  },
  {
   "cell_type": "code",
   "execution_count": null,
   "id": "63111307-920d-4cce-a8ae-024f963b74a7",
   "metadata": {},
   "outputs": [],
   "source": [
    "csvfile = filedialog.askopenfilename()\n",
    "\n",
    "df = pd.read_csv(csvfile)"
   ]
  },
  {
   "cell_type": "markdown",
   "id": "03cad7da-e227-4444-89a9-985a2a13d399",
   "metadata": {},
   "source": [
    "## Battery Statistics"
   ]
  },
  {
   "cell_type": "code",
   "execution_count": null,
   "id": "7ade7700-8124-432b-9fc8-6113d65c4c96",
   "metadata": {},
   "outputs": [],
   "source": [
    "print(df.describe())"
   ]
  },
  {
   "cell_type": "markdown",
   "id": "7113788d-db20-4bc4-a938-510e1923c933",
   "metadata": {},
   "source": [
    "## Battery Remaining"
   ]
  },
  {
   "cell_type": "code",
   "execution_count": null,
   "id": "ca92dfe5-1860-4033-ad7e-994a871c085f",
   "metadata": {},
   "outputs": [],
   "source": [
    "df['remaining'].plot()"
   ]
  },
  {
   "cell_type": "markdown",
   "id": "0706817a-34b6-4bc0-ae59-151d589c836a",
   "metadata": {},
   "source": [
    "## Battery Time Remaining in Seconds"
   ]
  },
  {
   "cell_type": "code",
   "execution_count": null,
   "id": "c343cdae-9a7c-49b7-8630-498518031396",
   "metadata": {},
   "outputs": [],
   "source": [
    "df['time_remaining_s'].plot()"
   ]
  },
  {
   "cell_type": "markdown",
   "id": "0334e836-e255-4d9b-87e2-ba16f6062ede",
   "metadata": {},
   "source": [
    "## Scale"
   ]
  },
  {
   "cell_type": "code",
   "execution_count": null,
   "id": "317c8f8f-7c5b-4ab5-8858-57d98fa88f1a",
   "metadata": {},
   "outputs": [],
   "source": [
    "df['scale'].plot()"
   ]
  },
  {
   "cell_type": "markdown",
   "id": "8b75b46b-cb34-40cf-afbb-08310229acb9",
   "metadata": {},
   "source": [
    "## Voltage Filtered (volts)"
   ]
  },
  {
   "cell_type": "code",
   "execution_count": null,
   "id": "075c0d36-57ed-4cfe-a5d4-8c88d7d2f53f",
   "metadata": {},
   "outputs": [],
   "source": [
    "df['voltage_filtered_v'].plot()"
   ]
  },
  {
   "cell_type": "markdown",
   "id": "60c778dc-fb55-4887-b443-f655ff519842",
   "metadata": {},
   "source": [
    "## Raw Voltage (volts)"
   ]
  },
  {
   "cell_type": "code",
   "execution_count": null,
   "id": "b05862b5-2731-49d6-9813-9b9acc81622a",
   "metadata": {},
   "outputs": [],
   "source": [
    "df['voltage_v'].plot()"
   ]
  },
  {
   "cell_type": "markdown",
   "id": "ead1d72b-4ade-4eb9-a52d-18b3b76bcbff",
   "metadata": {},
   "source": [
    "## Current Filtered (amps)"
   ]
  },
  {
   "cell_type": "code",
   "execution_count": null,
   "id": "ff98611c-a1ab-45c4-8132-d84612eaf00c",
   "metadata": {},
   "outputs": [],
   "source": [
    "df['current_filtered_a'].plot()"
   ]
  },
  {
   "cell_type": "markdown",
   "id": "92f5054f-c307-46a4-a435-0e0aa8f74455",
   "metadata": {},
   "source": [
    "## Raw Current (amps)"
   ]
  },
  {
   "cell_type": "code",
   "execution_count": null,
   "id": "5112907d-cf3d-4749-83d7-5c016fe91a42",
   "metadata": {},
   "outputs": [],
   "source": [
    "df['current_a'].plot()"
   ]
  },
  {
   "cell_type": "markdown",
   "id": "df790b9e-3b11-429d-9dea-348ebb7ac99e",
   "metadata": {},
   "source": [
    "## Discharged milli-amp hours"
   ]
  },
  {
   "cell_type": "code",
   "execution_count": null,
   "id": "dec2e656-1084-4882-bae2-791c6f4e8b14",
   "metadata": {},
   "outputs": [],
   "source": [
    "df['discharged_mah'].plot()"
   ]
  },
  {
   "cell_type": "code",
   "execution_count": null,
   "id": "37271d2f-6ce1-42fe-9f2f-76380ea55fe8",
   "metadata": {},
   "outputs": [],
   "source": [
    "df['watts_filtered'] = df.current_filtered_a * df.voltage_filtered_v\n"
   ]
  },
  {
   "cell_type": "code",
   "execution_count": null,
   "id": "4a73f095-6980-471c-b8e3-54fdafd96179",
   "metadata": {},
   "outputs": [],
   "source": [
    "df['watts_raw'] = df.current_a * df.voltage_v"
   ]
  },
  {
   "cell_type": "markdown",
   "id": "fc29a2b3-b83d-435a-9f55-1d087a49f977",
   "metadata": {},
   "source": [
    "## Power Raw (Watts)"
   ]
  },
  {
   "cell_type": "code",
   "execution_count": null,
   "id": "839f5ab7-73d1-4cd3-b69e-b1d95d923350",
   "metadata": {},
   "outputs": [],
   "source": [
    "df['watts_raw'].plot()"
   ]
  },
  {
   "cell_type": "markdown",
   "id": "6c052d99-3958-4696-888c-1d4bba0960dd",
   "metadata": {},
   "source": [
    "## Power Filtered (Watts)"
   ]
  },
  {
   "cell_type": "code",
   "execution_count": null,
   "id": "550bcfa4-7182-45b1-9ac9-0f52c49e75ca",
   "metadata": {},
   "outputs": [],
   "source": [
    "df['watts_filtered'].plot()"
   ]
  }
 ],
 "metadata": {
  "kernelspec": {
   "display_name": "Python 3 (ipykernel)",
   "language": "python",
   "name": "python3"
  },
  "language_info": {
   "codemirror_mode": {
    "name": "ipython",
    "version": 3
   },
   "file_extension": ".py",
   "mimetype": "text/x-python",
   "name": "python",
   "nbconvert_exporter": "python",
   "pygments_lexer": "ipython3",
   "version": "3.10.12"
  }
 },
 "nbformat": 4,
 "nbformat_minor": 5
}
